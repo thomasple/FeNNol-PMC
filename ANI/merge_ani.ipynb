{
 "cells": [
  {
   "cell_type": "code",
   "execution_count": 19,
   "metadata": {},
   "outputs": [],
   "source": [
    "import fennol\n",
    "import yaml\n",
    "import jax\n",
    "import glob\n",
    "from copy import deepcopy"
   ]
  },
  {
   "cell_type": "code",
   "execution_count": 20,
   "metadata": {},
   "outputs": [
    {
     "name": "stdout",
     "output_type": "stream",
     "text": [
      "{'energy_unit': 'Ha', 'energy_terms': ['energy'], 'cutoff': 5.1, 'preprocessing': {'graph_filter': {'cutoff': 3.5, 'graph_key': 'graph_angle', 'parent_graph': 'graph'}, 'graph_angular_extension': {'graph_key': 'graph_angle'}, 'species_indexer': {'output_key': 'species_index'}}, 'modules': {'embedding': {'angle_sections': 4, 'angular_dist_divisions': 8, 'angular_eta': 12.5, 'angular_start': 0.8, 'embedding_key': 'ani_aev', 'graph_angle_key': 'graph_angle', 'graph_key': 'graph', 'module_name': 'ANI_AEV', 'radial_dist_divisions': 16, 'radial_eta': 19.7, 'radial_start': 0.8, 'species_order': ['H', 'C', 'N', 'O', 'S', 'F', 'Cl'], 'zeta': 14.1}, 'energy0': {'activation': 'partial(celu, alpha=0.1)', 'hidden_neurons': {'C': [224, 192, 160], 'Cl': [160, 128, 96], 'F': [160, 128, 96], 'H': [256, 192, 160], 'N': [192, 160, 128], 'O': [192, 160, 128], 'S': [160, 128, 96]}, 'input_key': 'ani_aev', 'module_name': 'SPECIES_INDEX_NET', 'output_dim': 1, 'species_index_key': 'species_index', 'use_bias': True, 'squeeze': False}, 'energy1': {'activation': 'partial(celu, alpha=0.1)', 'hidden_neurons': {'C': [224, 192, 160], 'Cl': [160, 128, 96], 'F': [160, 128, 96], 'H': [256, 192, 160], 'N': [192, 160, 128], 'O': [192, 160, 128], 'S': [160, 128, 96]}, 'input_key': 'ani_aev', 'module_name': 'SPECIES_INDEX_NET', 'output_dim': 1, 'species_index_key': 'species_index', 'use_bias': True, 'squeeze': False}, 'energy2': {'activation': 'partial(celu, alpha=0.1)', 'hidden_neurons': {'C': [224, 192, 160], 'Cl': [160, 128, 96], 'F': [160, 128, 96], 'H': [256, 192, 160], 'N': [192, 160, 128], 'O': [192, 160, 128], 'S': [160, 128, 96]}, 'input_key': 'ani_aev', 'module_name': 'SPECIES_INDEX_NET', 'output_dim': 1, 'species_index_key': 'species_index', 'use_bias': True, 'squeeze': False}, 'energy3': {'activation': 'partial(celu, alpha=0.1)', 'hidden_neurons': {'C': [224, 192, 160], 'Cl': [160, 128, 96], 'F': [160, 128, 96], 'H': [256, 192, 160], 'N': [192, 160, 128], 'O': [192, 160, 128], 'S': [160, 128, 96]}, 'input_key': 'ani_aev', 'module_name': 'SPECIES_INDEX_NET', 'output_dim': 1, 'species_index_key': 'species_index', 'use_bias': True, 'squeeze': False}, 'energy4': {'activation': 'partial(celu, alpha=0.1)', 'hidden_neurons': {'C': [224, 192, 160], 'Cl': [160, 128, 96], 'F': [160, 128, 96], 'H': [256, 192, 160], 'N': [192, 160, 128], 'O': [192, 160, 128], 'S': [160, 128, 96]}, 'input_key': 'ani_aev', 'module_name': 'SPECIES_INDEX_NET', 'output_dim': 1, 'species_index_key': 'species_index', 'use_bias': True, 'squeeze': False}, 'energy5': {'activation': 'partial(celu, alpha=0.1)', 'hidden_neurons': {'C': [224, 192, 160], 'Cl': [160, 128, 96], 'F': [160, 128, 96], 'H': [256, 192, 160], 'N': [192, 160, 128], 'O': [192, 160, 128], 'S': [160, 128, 96]}, 'input_key': 'ani_aev', 'module_name': 'SPECIES_INDEX_NET', 'output_dim': 1, 'species_index_key': 'species_index', 'use_bias': True, 'squeeze': False}, 'energy6': {'activation': 'partial(celu, alpha=0.1)', 'hidden_neurons': {'C': [224, 192, 160], 'Cl': [160, 128, 96], 'F': [160, 128, 96], 'H': [256, 192, 160], 'N': [192, 160, 128], 'O': [192, 160, 128], 'S': [160, 128, 96]}, 'input_key': 'ani_aev', 'module_name': 'SPECIES_INDEX_NET', 'output_dim': 1, 'species_index_key': 'species_index', 'use_bias': True, 'squeeze': False}, 'energy7': {'activation': 'partial(celu, alpha=0.1)', 'hidden_neurons': {'C': [224, 192, 160], 'Cl': [160, 128, 96], 'F': [160, 128, 96], 'H': [256, 192, 160], 'N': [192, 160, 128], 'O': [192, 160, 128], 'S': [160, 128, 96]}, 'input_key': 'ani_aev', 'module_name': 'SPECIES_INDEX_NET', 'output_dim': 1, 'species_index_key': 'species_index', 'use_bias': True, 'squeeze': False}, 'concatenate_energies': {'module_name': 'CONCATENATE', 'keys': ['energy0', 'energy1', 'energy2', 'energy3', 'energy4', 'energy5', 'energy6', 'energy7'], 'axis': -1, 'output_key': 'energy_ensemble'}, 'average_energy': {'module_name': 'ENSEMBLE_STAT', 'key': 'energy_ensemble', 'mean_key': 'energy'}, 'etot_ensemble': {'module_name': 'scatter_system', 'key': 'energy_ensemble', 'output_key': 'etot_ensemble'}, 'etot_stat': {'module_name': 'ensemble_stat', 'key': 'etot_ensemble'}, 'self_energy': {'module_name': 'CHEMICAL_CONSTANT', 'trainable': True, 'value': {'C': -38.08933878049795, 'Cl': -460.1681939421027, 'F': -99.80348506781634, 'H': -0.5978583943827134, 'N': -54.711968298621066, 'O': -75.19106774742086, 'S': -398.1577125334925}}}}\n"
     ]
    }
   ],
   "source": [
    "with open(\"ani_ensemble.yaml\") as f:\n",
    "    yaml_data = yaml.safe_load(f)\n",
    "print(yaml_data)"
   ]
  },
  {
   "cell_type": "code",
   "execution_count": 21,
   "metadata": {},
   "outputs": [
    {
     "name": "stdout",
     "output_type": "stream",
     "text": [
      "dict_keys(['energy0', 'energy1', 'energy2', 'energy3', 'energy4', 'energy5', 'energy6', 'energy7', 'self_energy'])\n"
     ]
    }
   ],
   "source": [
    "model = fennol.FENNIX(**yaml_data, rng_key=jax.random.PRNGKey(0))\n",
    "print(model.variables[\"params\"].keys())"
   ]
  },
  {
   "cell_type": "code",
   "execution_count": 22,
   "metadata": {},
   "outputs": [],
   "source": [
    "variables = deepcopy(model.variables)"
   ]
  },
  {
   "cell_type": "code",
   "execution_count": 25,
   "metadata": {},
   "outputs": [],
   "source": [
    "model_files = sorted(glob.glob(\"ANI2X/ani2x_model*.fnx\"))\n",
    "for i, model_file in enumerate(model_files):\n",
    "    mi = fennol.load(model_file)\n",
    "    if i==0:\n",
    "      variables[\"params\"][\"self_energy\"] = mi.variables[\"params\"][\"self_energy\"]  \n",
    "    variables[\"params\"][f\"energy{i}\"]= mi.variables[\"params\"][\"energy\"]\n",
    "\n"
   ]
  },
  {
   "cell_type": "code",
   "execution_count": 27,
   "metadata": {},
   "outputs": [
    {
     "name": "stdout",
     "output_type": "stream",
     "text": [
      "dict_keys(['energy0', 'energy1', 'energy2', 'energy3', 'energy4', 'energy5', 'energy6', 'energy7', 'self_energy'])\n"
     ]
    }
   ],
   "source": [
    "print(variables[\"params\"].keys())"
   ]
  },
  {
   "cell_type": "code",
   "execution_count": 26,
   "metadata": {},
   "outputs": [],
   "source": [
    "model.variables = variables\n",
    "model.save(\"ANI2X/ani2x_ensemble.fnx\")"
   ]
  },
  {
   "cell_type": "code",
   "execution_count": null,
   "metadata": {},
   "outputs": [],
   "source": []
  }
 ],
 "metadata": {
  "kernelspec": {
   "display_name": "fennol-dev",
   "language": "python",
   "name": "python3"
  },
  "language_info": {
   "codemirror_mode": {
    "name": "ipython",
    "version": 3
   },
   "file_extension": ".py",
   "mimetype": "text/x-python",
   "name": "python",
   "nbconvert_exporter": "python",
   "pygments_lexer": "ipython3",
   "version": "3.10.11"
  }
 },
 "nbformat": 4,
 "nbformat_minor": 2
}
